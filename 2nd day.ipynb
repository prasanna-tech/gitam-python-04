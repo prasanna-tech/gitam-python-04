{
 "cells": [
  {
   "cell_type": "markdown",
   "metadata": {},
   "source": [
    "### control statements\n",
    "- control statements or selection statements\n",
    "        - if-else\n",
    "- iterartion statements or loop statements\n",
    "        - while\n",
    "        - for"
   ]
  },
  {
   "cell_type": "code",
   "execution_count": 5,
   "metadata": {},
   "outputs": [
    {
     "name": "stdout",
     "output_type": "stream",
     "text": [
      "2007\n",
      "not leap year\n"
     ]
    }
   ],
   "source": [
    "# check the input is leap year or not\n",
    "year = int(input(''))\n",
    "if year % 400 ==0 or (year % 100 !=0 and year % 4 ==0):\n",
    "    print('leap year')\n",
    "else:\n",
    "    print('not leap year')    "
   ]
  },
  {
   "cell_type": "markdown",
   "metadata": {},
   "source": [
    "# while loop"
   ]
  },
  {
   "cell_type": "code",
   "execution_count": 6,
   "metadata": {},
   "outputs": [
    {
     "name": "stdout",
     "output_type": "stream",
     "text": [
      "enter a number :7\n",
      "1 2 3 4 5 6 7 "
     ]
    }
   ],
   "source": [
    "# print numbers from 1 to N\n",
    "# input : 10\n",
    "#output : 123.....10\n",
    "n = int(input('enter a number :'))\n",
    "i = 1\n",
    "while i <= n:\n",
    "    print(i,end=\" \")\n",
    "    i = i + 1"
   ]
  },
  {
   "cell_type": "code",
   "execution_count": 11,
   "metadata": {
    "scrolled": true
   },
   "outputs": [
    {
     "name": "stdout",
     "output_type": "stream",
     "text": [
      "10\n",
      "30\n"
     ]
    }
   ],
   "source": [
    "# Read a number as input\n",
    "# Output as only even numbers from 1 to N\n",
    " \n",
    "# input : 10\n",
    "# output : 30 (2+4+6+8+10)\n",
    "n = int(input(''))\n",
    "i = 1\n",
    "s = 0\n",
    "while i <= n:\n",
    "    if i % 2 == 0:\n",
    "        s = s + i\n",
    "    i = i + 1\n",
    "print(s)"
   ]
  },
  {
   "cell_type": "code",
   "execution_count": 16,
   "metadata": {},
   "outputs": [
    {
     "name": "stdout",
     "output_type": "stream",
     "text": [
      "123\n",
      "3 2 1 "
     ]
    }
   ],
   "source": [
    "# Read a number as input\n",
    "# output has be digits of the number\n",
    "\n",
    "# input : 123\n",
    "# output : 3 2 1 \n",
    "\n",
    "n= int(input(''))\n",
    "while n != 0:\n",
    "    print(n%10,end=' ')\n",
    "    n = n // 10"
   ]
  },
  {
   "cell_type": "markdown",
   "metadata": {},
   "source": [
    "### FUNCTIONAL PROGRAMMING\n",
    "- Simple\n",
    "- Easy to understand   \n",
    "- Better reusability\n",
    "- Lengthy program will be divided into sub programs\n"
   ]
  },
  {
   "cell_type": "code",
   "execution_count": 17,
   "metadata": {},
   "outputs": [
    {
     "ename": "SyntaxError",
     "evalue": "invalid syntax (<ipython-input-17-904714ca10c3>, line 1)",
     "output_type": "error",
     "traceback": [
      "\u001b[1;36m  File \u001b[1;32m\"<ipython-input-17-904714ca10c3>\"\u001b[1;36m, line \u001b[1;32m1\u001b[0m\n\u001b[1;33m    def nameoftheFunction(<parameters>):\u001b[0m\n\u001b[1;37m                          ^\u001b[0m\n\u001b[1;31mSyntaxError\u001b[0m\u001b[1;31m:\u001b[0m invalid syntax\n"
     ]
    }
   ],
   "source": [
    "def nameoftheFunction(<parameters>):\n",
    "    statements\n",
    "    return "
   ]
  },
  {
   "cell_type": "code",
   "execution_count": 24,
   "metadata": {},
   "outputs": [
    {
     "data": {
      "text/plain": [
       "6"
      ]
     },
     "execution_count": 24,
     "metadata": {},
     "output_type": "execute_result"
    }
   ],
   "source": [
    "# Find a number\n",
    "# Print the Even digit sum from the number \n",
    "\n",
    "# Input  : 1234\n",
    "# Output : 6(2 + 4)\n",
    "\n",
    "def evenDigitSum(n):\n",
    "    s = 0\n",
    "    while n != 0:\n",
    "        r = n % 10\n",
    "        if r % 2 == 0:\n",
    "            s = s + r\n",
    "        n = n // 10\n",
    "    return s\n",
    "evenDigitSum(1234)"
   ]
  },
  {
   "cell_type": "code",
   "execution_count": 28,
   "metadata": {},
   "outputs": [
    {
     "data": {
      "text/plain": [
       "9"
      ]
     },
     "execution_count": 28,
     "metadata": {},
     "output_type": "execute_result"
    }
   ],
   "source": [
    "# Input  : 19535\n",
    "# Output : 9 (large digit of the given number )\n",
    "# Functional programming \n",
    "\n",
    "def largeDigit(n):\n",
    "    large = 0\n",
    "    while n != 0:\n",
    "        r = n % 10\n",
    "        if large < r :\n",
    "            large = r\n",
    "        n = n // 10    \n",
    "    return large\n",
    "largeDigit(19535)"
   ]
  },
  {
   "cell_type": "code",
   "execution_count": 5,
   "metadata": {},
   "outputs": [
    {
     "name": "stdout",
     "output_type": "stream",
     "text": [
      "Yes\n",
      "No\n"
     ]
    }
   ],
   "source": [
    "# Read a number as input\n",
    "#output Yes or No\n",
    "\n",
    "# Input  : 145\n",
    "# Output : Yes\n",
    "\n",
    "# Input  : 123\n",
    "# Output : No\n",
    "\n",
    "# Individual Digit factorial sum is same as input number\n",
    "\n",
    "def factorial(n):\n",
    "    fact = 1\n",
    "    i = 1\n",
    "    while i <= n:\n",
    "        fact = fact * i\n",
    "        i = i + 1\n",
    "    return fact\n",
    "def digitfactsum(n):\n",
    "    s  = 0\n",
    "    buffer = n\n",
    "    while n != 0:\n",
    "        r = n % 10\n",
    "        s += factorial(r)\n",
    "        n = n // 10\n",
    "    if buffer == s:\n",
    "        return \"Yes\"\n",
    "    else :\n",
    "        return \"No\"\n",
    "    return \n",
    "print(digitfactsum(145))\n",
    "print(digitfactsum(123))"
   ]
  },
  {
   "cell_type": "code",
   "execution_count": 13,
   "metadata": {},
   "outputs": [
    {
     "name": "stdout",
     "output_type": "stream",
     "text": [
      "Palindrome\n",
      "Not a palindrome\n"
     ]
    }
   ],
   "source": [
    "# Read a number as input\n",
    "# Output as palindrome or not a palindrome\n",
    "# Palindrome --  A number after reversing is same as the original number\n",
    "\n",
    "# Input  : 123\n",
    "#Output  : Palindrome\n",
    "\n",
    "# Input  : 123\n",
    "# Output : Not a palindrome\n",
    "\n",
    "def ispalindrome(n):\n",
    "    rev = 0\n",
    "    buffer = n\n",
    "    while n != 0:\n",
    "        rev = rev * 10 + (n%10)\n",
    "        n = n // 10\n",
    "    if buffer == rev:\n",
    "        return \"Palindrome\"\n",
    "    else:\n",
    "        return \"Not a palindrome\"\n",
    "print(ispalindrome(121))\n",
    "print(ispalindrome(123))"
   ]
  },
  {
   "cell_type": "code",
   "execution_count": 15,
   "metadata": {},
   "outputs": [
    {
     "name": "stdout",
     "output_type": "stream",
     "text": [
      "11 12 13 14 15 16 17 18 19 20 21 22 23 24 25 "
     ]
    }
   ],
   "source": [
    "# Function to print the numbers between two limits\n",
    "# Input : 11 25\n",
    "#Output : 11 12 13 14...........25\n",
    "\n",
    "def printSeries(lb,ub):\n",
    "    for x in range(lb,ub+1):\n",
    "        print(x,end=' ')\n",
    "    return\n",
    "printSeries(11,25)\n"
   ]
  },
  {
   "cell_type": "code",
   "execution_count": 16,
   "metadata": {},
   "outputs": [
    {
     "name": "stdout",
     "output_type": "stream",
     "text": [
      "500 504 508 512 516 520 "
     ]
    }
   ],
   "source": [
    "# Function to print the alternste numbers\n",
    "# [500,520]---500 502 504 506---520\n",
    "# [100,140]---100 104 108 112-----140\n",
    "def alternateNumbers(lb,ub):\n",
    "    for x in range(lb,ub+1,4):\n",
    "        print(x,end=' ')\n",
    "    return\n",
    "alternateNumbers(500,520)"
   ]
  },
  {
   "cell_type": "code",
   "execution_count": null,
   "metadata": {},
   "outputs": [],
   "source": []
  }
 ],
 "metadata": {
  "kernelspec": {
   "display_name": "Python 3",
   "language": "python",
   "name": "python3"
  },
  "language_info": {
   "codemirror_mode": {
    "name": "ipython",
    "version": 3
   },
   "file_extension": ".py",
   "mimetype": "text/x-python",
   "name": "python",
   "nbconvert_exporter": "python",
   "pygments_lexer": "ipython3",
   "version": "3.7.3"
  }
 },
 "nbformat": 4,
 "nbformat_minor": 2
}
