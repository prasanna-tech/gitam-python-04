{
 "cells": [
  {
   "cell_type": "markdown",
   "metadata": {},
   "source": [
    "### Pandas and Matplotlib"
   ]
  },
  {
   "cell_type": "code",
   "execution_count": 1,
   "metadata": {},
   "outputs": [
    {
     "data": {
      "text/plain": [
       "'C:\\\\Users\\\\Siri\\\\Desktop\\\\pythonprogramming'"
      ]
     },
     "execution_count": 1,
     "metadata": {},
     "output_type": "execute_result"
    }
   ],
   "source": [
    "pwd"
   ]
  },
  {
   "cell_type": "code",
   "execution_count": 27,
   "metadata": {},
   "outputs": [
    {
     "name": "stdout",
     "output_type": "stream",
     "text": [
      "        Season  Daynum   Wteam  Wscore   Lteam  Lscore Wloc  Numot\n",
      "0       1985.0    10.0  1228.0    81.0  1328.0    64.0    N      0\n",
      "1       1985.0    25.0  1106.0    77.0  1354.0    70.0    H      0\n",
      "2       1985.0    25.0  1112.0    63.0  1223.0    56.0    H      0\n",
      "3       1985.0    25.0  1165.0    70.0  1432.0    54.0    H      0\n",
      "4       1985.0    25.0  1192.0    86.0  1447.0    74.0    H      0\n",
      "5       1985.0    25.0  1218.0    79.0  1337.0    78.0    H      0\n",
      "6       1985.0    25.0  1228.0    64.0  1226.0    44.0    N      0\n",
      "7       1985.0    25.0  1242.0    58.0  1268.0    56.0    N      0\n",
      "8       1985.0    25.0  1260.0    98.0  1133.0    80.0    H      0\n",
      "9       1985.0    25.0  1305.0    97.0  1424.0    89.0    H      0\n",
      "10      1985.0    25.0  1307.0   103.0  1288.0    71.0    H      0\n",
      "11      1985.0    25.0  1344.0    75.0  1438.0    71.0    N      0\n",
      "12      1985.0    25.0  1374.0     NaN  1411.0    72.0    H      0\n",
      "13      1985.0     NaN  1412.0    70.0  1397.0    65.0    N      0\n",
      "14         NaN     NaN     NaN     NaN     NaN     NaN    H      0\n",
      "15      1985.0    26.0  1116.0    65.0  1368.0    62.0    H      0\n",
      "16      1985.0    26.0  1120.0     NaN  1391.0    50.0    H      0\n",
      "17      1985.0    26.0  1135.0    65.0  1306.0    60.0  NaN      0\n",
      "18      1985.0    26.0  1143.0    58.0  1388.0    53.0    H      0\n",
      "19      1985.0    26.0  1153.0    50.0  1184.0    48.0    H      0\n",
      "20      1985.0    26.0  1165.0    47.0  1159.0    40.0    A      0\n",
      "21      1985.0    26.0  1171.0    55.0  1216.0    52.0    H      0\n",
      "22      1985.0    26.0  1173.0    76.0  1134.0    56.0    H      0\n",
      "23      1985.0    26.0  1177.0    59.0  1296.0    58.0    H      0\n",
      "24      1985.0    26.0  1193.0    79.0  1265.0    76.0    A      0\n",
      "25      1985.0    26.0  1196.0   106.0  1416.0    55.0    H      0\n",
      "26      1985.0    26.0  1206.0    95.0  1137.0    77.0    H      0\n",
      "27      1985.0    26.0  1210.0    79.0  1149.0    66.0    H      0\n",
      "28      1985.0    26.0  1211.0    64.0  1102.0    59.0    A      0\n",
      "29      1985.0    26.0  1234.0    76.0  1114.0    47.0    H      0\n",
      "...        ...     ...     ...     ...     ...     ...  ...    ...\n",
      "145259  2016.0   130.0  1452.0    69.0  1328.0    67.0    N      0\n",
      "145260  2016.0   131.0  1114.0    72.0  1418.0    65.0    N      0\n",
      "145261  2016.0   131.0  1138.0    64.0  1103.0    61.0    N      0\n",
      "145262  2016.0   131.0  1163.0    77.0  1396.0    62.0    N      0\n",
      "145263  2016.0   131.0  1167.0    57.0  1308.0    54.0    N      0\n",
      "145264  2016.0   131.0  1201.0    68.0  1361.0    63.0    N      0\n",
      "145265  2016.0   131.0  1214.0    81.0  1354.0    69.0    N      0\n",
      "145266  2016.0   131.0  1218.0    64.0  1253.0    60.0    N      0\n",
      "145267  2016.0   131.0  1242.0    81.0  1452.0    71.0    N      0\n",
      "145268  2016.0   131.0  1246.0    93.0  1208.0    80.0    N      0\n",
      "145269  2016.0   131.0  1272.0    74.0  1408.0    54.0    N      0\n",
      "145270  2016.0   131.0  1277.0    64.0  1268.0    61.0    N      0\n",
      "145271  2016.0   131.0  1292.0    55.0  1330.0    53.0    N      0\n",
      "145272  2016.0   131.0  1314.0    61.0  1438.0    57.0    N      0\n",
      "145273  2016.0   131.0  1332.0    88.0  1428.0    57.0    N      0\n",
      "145274  2016.0   131.0  1345.0    76.0  1276.0    59.0    N      0\n",
      "145275  2016.0   131.0  1371.0    69.0  1437.0    67.0    N      0\n",
      "145276  2016.0   131.0  1372.0    82.0  1394.0    60.0    N      0\n",
      "145277  2016.0   131.0  1380.0    54.0  1238.0    53.0    N      0\n",
      "145278  2016.0   131.0  1386.0    82.0  1173.0    79.0    N      0\n",
      "145279  2016.0   131.0  1392.0    80.0  1436.0    74.0    H      0\n",
      "145280  2016.0   131.0  1401.0    71.0  1261.0    38.0    N      0\n",
      "145281  2016.0   131.0  1419.0    82.0  1426.0    71.0    N      0\n",
      "145282  2016.0   131.0  1433.0    76.0  1172.0    54.0    N      0\n",
      "145283  2016.0   131.0  1451.0    62.0  1285.0    59.0    N      0\n",
      "145284  2016.0   132.0  1114.0    70.0  1419.0    50.0    N      0\n",
      "145285  2016.0   132.0  1163.0    72.0  1272.0    58.0    N      0\n",
      "145286  2016.0   132.0  1246.0    82.0  1401.0    77.0    N      1\n",
      "145287  2016.0   132.0  1277.0    66.0  1345.0    62.0    N      0\n",
      "145288  2016.0   132.0  1386.0    87.0  1433.0    74.0    N      0\n",
      "\n",
      "[145289 rows x 8 columns]\n"
     ]
    }
   ],
   "source": [
    "import pandas as pd\n",
    "filePath = 'C:\\\\Users\\\\Siri\\\\Desktop\\\\pythonprogramming\\\\RegularSeasonCompactResults.csv'\n",
    "def readCsvData(filePath):\n",
    "    return pd.read_csv(filePath)\n",
    "df = readCsvData(filePath)\n",
    "print(df)"
   ]
  },
  {
   "cell_type": "code",
   "execution_count": 28,
   "metadata": {},
   "outputs": [
    {
     "data": {
      "text/plain": [
       "['Season', 'Daynum', 'Wteam', 'Wscore', 'Lteam', 'Lscore', 'Wloc', 'Numot']"
      ]
     },
     "execution_count": 28,
     "metadata": {},
     "output_type": "execute_result"
    }
   ],
   "source": [
    "df.columns.tolist()"
   ]
  },
  {
   "cell_type": "code",
   "execution_count": 29,
   "metadata": {},
   "outputs": [
    {
     "data": {
      "text/plain": [
       "Wteam\n",
       "1101.0    78.111111\n",
       "1102.0    69.893204\n",
       "1103.0    75.839768\n",
       "1104.0    75.825944\n",
       "1105.0    74.960894\n",
       "Name: Wscore, dtype: float64"
      ]
     },
     "execution_count": 29,
     "metadata": {},
     "output_type": "execute_result"
    }
   ],
   "source": [
    "df.groupby('Wteam')['Wscore'].mean().head()"
   ]
  },
  {
   "cell_type": "code",
   "execution_count": 30,
   "metadata": {},
   "outputs": [
    {
     "data": {
      "text/plain": [
       "Wteam\n",
       "1460.0    75.531469\n",
       "1461.0    75.170082\n",
       "1462.0    79.906021\n",
       "1463.0    71.720102\n",
       "1464.0    73.926056\n",
       "Name: Wscore, dtype: float64"
      ]
     },
     "execution_count": 30,
     "metadata": {},
     "output_type": "execute_result"
    }
   ],
   "source": [
    "df.groupby('Wteam')['Wscore'].mean().tail()"
   ]
  },
  {
   "cell_type": "markdown",
   "metadata": {},
   "source": [
    "### Data Cleaning\n",
    "- whenever you have a list of missing records values in the dataset then you can isnull()\n",
    "- isnull() will notify the any missing values in the dataframe"
   ]
  },
  {
   "cell_type": "code",
   "execution_count": 31,
   "metadata": {},
   "outputs": [
    {
     "data": {
      "text/plain": [
       "Season    1\n",
       "Daynum    2\n",
       "Wteam     1\n",
       "Wscore    3\n",
       "Lteam     1\n",
       "Lscore    1\n",
       "Wloc      1\n",
       "Numot     0\n",
       "dtype: int64"
      ]
     },
     "execution_count": 31,
     "metadata": {},
     "output_type": "execute_result"
    }
   ],
   "source": [
    "# Entire dataset\n",
    "df.isnull().sum()"
   ]
  },
  {
   "cell_type": "code",
   "execution_count": 32,
   "metadata": {},
   "outputs": [
    {
     "data": {
      "text/plain": [
       "1"
      ]
     },
     "execution_count": 32,
     "metadata": {},
     "output_type": "execute_result"
    }
   ],
   "source": [
    "# only column missing values\n",
    "df['Season'].isnull().sum()"
   ]
  },
  {
   "cell_type": "markdown",
   "metadata": {},
   "source": [
    "- dropna() This function allows you to drop all or some rows that have missing values\n",
    "- final() This function allows you to replace the rows that have missing values with the value what you want pass"
   ]
  },
  {
   "cell_type": "code",
   "execution_count": 33,
   "metadata": {},
   "outputs": [
    {
     "data": {
      "text/plain": [
       "145289"
      ]
     },
     "execution_count": 33,
     "metadata": {},
     "output_type": "execute_result"
    }
   ],
   "source": [
    "len(df)"
   ]
  },
  {
   "cell_type": "code",
   "execution_count": 36,
   "metadata": {},
   "outputs": [],
   "source": [
    "# dropping rows with 1  null value\n",
    "new_df = df.dropna(axis=0,how='any')"
   ]
  },
  {
   "cell_type": "code",
   "execution_count": 37,
   "metadata": {},
   "outputs": [
    {
     "data": {
      "text/plain": [
       "145284"
      ]
     },
     "execution_count": 37,
     "metadata": {},
     "output_type": "execute_result"
    }
   ],
   "source": [
    "len(new_df)"
   ]
  },
  {
   "cell_type": "markdown",
   "metadata": {},
   "source": [
    "### Numpy Library\n",
    "- Processing of N-dimensional arrays\n",
    "- Numpy is an open source library available in python\n",
    "- This used for Math,Scientific,data science programming"
   ]
  },
  {
   "cell_type": "code",
   "execution_count": 39,
   "metadata": {},
   "outputs": [
    {
     "name": "stdout",
     "output_type": "stream",
     "text": [
      "[1 2 3 4 5 6]\n",
      "<class 'numpy.ndarray'>\n"
     ]
    }
   ],
   "source": [
    "import numpy as np\n",
    "li = [1,2,3,4,5,6]\n",
    "cl = np.array(li)\n",
    "print(cl)\n",
    "print(type(cl))"
   ]
  },
  {
   "cell_type": "code",
   "execution_count": 40,
   "metadata": {},
   "outputs": [
    {
     "name": "stdout",
     "output_type": "stream",
     "text": [
      "(6,)\n",
      "int32\n"
     ]
    }
   ],
   "source": [
    "print(cl.shape)\n",
    "print(cl.dtype)"
   ]
  },
  {
   "cell_type": "code",
   "execution_count": 41,
   "metadata": {},
   "outputs": [
    {
     "data": {
      "text/plain": [
       "array([[1, 2, 3],\n",
       "       [4, 5, 6]])"
      ]
     },
     "execution_count": 41,
     "metadata": {},
     "output_type": "execute_result"
    }
   ],
   "source": [
    "a1 = np.array([(1,2,3),(4,5,6)])\n",
    "a1"
   ]
  },
  {
   "cell_type": "code",
   "execution_count": 43,
   "metadata": {},
   "outputs": [
    {
     "name": "stdout",
     "output_type": "stream",
     "text": [
      "(2, 3)\n",
      "int32\n"
     ]
    }
   ],
   "source": [
    "print(a1.shape)\n",
    "print(a1.dtype)"
   ]
  },
  {
   "cell_type": "markdown",
   "metadata": {},
   "source": [
    "### np.zeroes()np.ones()\n",
    "- to initialize the weights during the first iteration of TensorFlow"
   ]
  },
  {
   "cell_type": "code",
   "execution_count": 44,
   "metadata": {},
   "outputs": [
    {
     "name": "stdout",
     "output_type": "stream",
     "text": [
      "[[0. 0.]\n",
      " [0. 0.]]\n"
     ]
    }
   ],
   "source": [
    "x = np.zeros((2,2))\n",
    "print(x)"
   ]
  },
  {
   "cell_type": "code",
   "execution_count": 45,
   "metadata": {},
   "outputs": [
    {
     "name": "stdout",
     "output_type": "stream",
     "text": [
      "[[0 0]\n",
      " [0 0]]\n"
     ]
    }
   ],
   "source": [
    "x = np.zeros((2,2),dtype=np.int16)\n",
    "print(x)"
   ]
  },
  {
   "cell_type": "code",
   "execution_count": 48,
   "metadata": {},
   "outputs": [
    {
     "name": "stdout",
     "output_type": "stream",
     "text": [
      "[ 0  1  2  3  4  5  6  7  8  9 10 11 12 13 14]\n"
     ]
    }
   ],
   "source": [
    "x2 = np.arange(15)\n",
    "print(x2)"
   ]
  },
  {
   "cell_type": "code",
   "execution_count": 49,
   "metadata": {},
   "outputs": [
    {
     "name": "stdout",
     "output_type": "stream",
     "text": [
      "[[ 0  1  2]\n",
      " [ 3  4  5]\n",
      " [ 6  7  8]\n",
      " [ 9 10 11]\n",
      " [12 13 14]]\n"
     ]
    }
   ],
   "source": [
    "x3 = x2.reshape(5,3)\n",
    "print(x3)"
   ]
  },
  {
   "cell_type": "code",
   "execution_count": 50,
   "metadata": {},
   "outputs": [
    {
     "name": "stdout",
     "output_type": "stream",
     "text": [
      "[[1 1 1]\n",
      " [1 1 1]\n",
      " [1 1 1]]\n"
     ]
    }
   ],
   "source": [
    "x1 = np.ones((3,3),dtype=np.int16)\n",
    "print(x1)"
   ]
  },
  {
   "cell_type": "code",
   "execution_count": 52,
   "metadata": {},
   "outputs": [
    {
     "name": "stdout",
     "output_type": "stream",
     "text": [
      "[[0.   0.25 0.5 ]\n",
      " [0.75 1.   1.25]\n",
      " [1.5  1.75 2.  ]\n",
      " [2.25 2.5  2.75]\n",
      " [3.   3.25 3.5 ]]\n"
     ]
    }
   ],
   "source": [
    "x4 = x3 / 4\n",
    "print(x4)"
   ]
  },
  {
   "cell_type": "markdown",
   "metadata": {},
   "source": [
    "### visualizing data\n",
    "- an interesting way to display dataframe\n",
    "- with matplotlib"
   ]
  },
  {
   "cell_type": "code",
   "execution_count": 55,
   "metadata": {},
   "outputs": [
    {
     "data": {
      "text/plain": [
       "<Figure size 360x360 with 0 Axes>"
      ]
     },
     "metadata": {},
     "output_type": "display_data"
    }
   ],
   "source": [
    "import matplotlib.pyplot as plt\n",
    "a1 = [1,2,3,4]\n",
    "a2 = [5,6,7,8]\n",
    "plt.figure(figsize=(5,5))\n",
    "plt.show()"
   ]
  },
  {
   "cell_type": "code",
   "execution_count": 56,
   "metadata": {},
   "outputs": [
    {
     "data": {
      "image/png": "[encoded data removed]",
      "text/plain": [
       "<Figure size 360x360 with 1 Axes>"
      ]
     },
     "metadata": {
      "needs_background": "light"
     },
     "output_type": "display_data"
    }
   ],
   "source": [
    "import matplotlib.pyplot as plt\n",
    "a1 = [1,2,3,4]\n",
    "a2 = [5,6,7,8]\n",
    "plt.figure(figsize=(5,5))\n",
    "plt.plot(a1,a2)\n",
    "plt.xlabel('x-axis')\n",
    "plt.xlabel('y-axis')\n",
    "plt.show()"
   ]
  },
  {
   "cell_type": "code",
   "execution_count": 60,
   "metadata": {},
   "outputs": [
    {
     "data": {
      "image/png": "[encoded data removed]",
      "text/plain": [
       "<Figure size 432x288 with 1 Axes>"
      ]
     },
     "metadata": {
      "needs_background": "light"
     },
     "output_type": "display_data"
    }
   ],
   "source": [
    "marks = [79,83,75,77]\n",
    "# avg_marks = [56,76,72,78]\n",
    "divisions = ['A','B','C','D']\n",
    "index = np.arange(len(divisions))\n",
    "\n",
    "plt.bar(divisions,marks,color=\"#1412cd\",width = 0.70)\n",
    "plt.show()"
   ]
  },
  {
   "cell_type": "code",
   "execution_count": 66,
   "metadata": {},
   "outputs": [
    {
     "data": {
      "image/png": "[encoded data removed]",
      "text/plain": [
       "<Figure size 432x288 with 1 Axes>"
      ]
     },
     "metadata": {
      "needs_background": "light"
     },
     "output_type": "display_data"
    }
   ],
   "source": [
    "plt.barh(divisions,marks,color ='pink')\n",
    "plt.show()"
   ]
  },
  {
   "cell_type": "code",
   "execution_count": 75,
   "metadata": {},
   "outputs": [
    {
     "data": {
      "image/png": "[encoded data removed]",
      "text/plain": [
       "<Figure size 432x288 with 1 Axes>"
      ]
     },
     "metadata": {},
     "output_type": "display_data"
    }
   ],
   "source": [
    "lang = ['python','java','c','c++']\n",
    "rating = [75,70,55,65]\n",
    "plt.pie(rating,labels = lang,shadow=True,startangle=90,autopct='%1.1f%%')\n",
    "plt.legend(loc='lower left')\n",
    "plt.show()"
   ]
  },
  {
   "cell_type": "code",
   "execution_count": null,
   "metadata": {},
   "outputs": [],
   "source": []
  }
 ],
 "metadata": {
  "kernelspec": {
   "display_name": "Python 3",
   "language": "python",
   "name": "python3"
  },
  "language_info": {
   "codemirror_mode": {
    "name": "ipython",
    "version": 3
   },
   "file_extension": ".py",
   "mimetype": "text/x-python",
   "name": "python",
   "nbconvert_exporter": "python",
   "pygments_lexer": "ipython3",
   "version": "3.7.3"
  }
 },
 "nbformat": 4,
 "nbformat_minor": 2
}
